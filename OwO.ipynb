{
 "cells": [
  {
   "cell_type": "code",
   "execution_count": 1,
   "id": "f0dd3a86",
   "metadata": {},
   "outputs": [],
   "source": [
    "import pandas as pd\n",
    "import numpy as np\n",
    "from sklearn.model_selection import cross_val_score\n",
    "from sklearn.tree import DecisionTreeClassifier\n",
    "import matplotlib.pyplot as plt\n",
    "from sklearn.model_selection import GridSearchCV\n",
    "from sklearn.decomposition import PCA\n",
    "from sklearn.preprocessing import normalize\n",
    "from sklearn.ensemble import RandomForestClassifier, GradientBoostingClassifier"
   ]
  },
  {
   "cell_type": "code",
   "execution_count": 2,
   "id": "a6d83682",
   "metadata": {},
   "outputs": [],
   "source": [
    "train_data = pd.read_excel('startup_train.xlsx')\n",
    "test_data = pd.read_excel('startup_test_new.xlsx')\n",
    "\n",
    "#drop some duplicate or meaningless labels\n",
    "train_final = train_data.drop(\n",
    "    ['Unnamed: 0', 'state_code','zip_code', 'id', 'city', 'Unnamed: 6', 'name', 'closed_at', 'state_code.1',\n",
    "     'category_code', 'object_id','age_first_milestone_year','age_last_milestone_year'], 1)\n",
    "test_final = test_data.drop(\n",
    "    ['ID','Unnamed: 0', 'state_code', 'zip_code', 'id', 'city', 'Unnamed: 6', 'name', 'closed_at', 'state_code.1',\n",
    "     'category_code', 'object_id','age_first_milestone_year','age_last_milestone_year'], 1)"
   ]
  },
  {
   "cell_type": "code",
   "execution_count": 3,
   "id": "487a4b80",
   "metadata": {},
   "outputs": [],
   "source": [
    "#translate datetime to float\n",
    "def transdate(x):\n",
    "    x = pd.to_datetime(x)\n",
    "    y = x.dt.year.astype(np.float64)\n",
    "    m = x.dt.month.astype(np.float64)\n",
    "    d = x.dt.day.astype(np.float64)\n",
    "    x = y*365+m*30+d\n",
    "    return x\n",
    "train_final['first_funding_at'] = transdate(train_final['first_funding_at'])\n",
    "train_final['last_funding_at'] = transdate(train_final['last_funding_at'])\n",
    "train_final['founded_at'] = transdate(train_final['founded_at'])\n",
    "test_final['first_funding_at'] = transdate(test_final['first_funding_at'])\n",
    "test_final['last_funding_at'] = transdate(test_final['last_funding_at'])\n",
    "test_final['founded_at'] = transdate(test_final['founded_at'])"
   ]
  },
  {
   "cell_type": "code",
   "execution_count": 4,
   "id": "4b1cffe6",
   "metadata": {},
   "outputs": [],
   "source": [
    "#label status as 0/1\n",
    "train_final['status'] = train_final.status.map({'closed': 0, 'acquired': 1})\n",
    "test_final['status'] = test_final.status.map({'closed': 0, 'acquired': 1})"
   ]
  },
  {
   "cell_type": "code",
   "execution_count": 5,
   "id": "e4f97987",
   "metadata": {},
   "outputs": [
    {
     "data": {
      "text/html": [
       "<div>\n",
       "<style scoped>\n",
       "    .dataframe tbody tr th:only-of-type {\n",
       "        vertical-align: middle;\n",
       "    }\n",
       "\n",
       "    .dataframe tbody tr th {\n",
       "        vertical-align: top;\n",
       "    }\n",
       "\n",
       "    .dataframe thead th {\n",
       "        text-align: right;\n",
       "    }\n",
       "</style>\n",
       "<table border=\"1\" class=\"dataframe\">\n",
       "  <thead>\n",
       "    <tr style=\"text-align: right;\">\n",
       "      <th></th>\n",
       "      <th>latitude</th>\n",
       "      <th>longitude</th>\n",
       "      <th>founded_at</th>\n",
       "      <th>first_funding_at</th>\n",
       "      <th>last_funding_at</th>\n",
       "      <th>age_first_funding_year</th>\n",
       "      <th>age_last_funding_year</th>\n",
       "      <th>relationships</th>\n",
       "      <th>funding_rounds</th>\n",
       "      <th>funding_total_usd</th>\n",
       "      <th>...</th>\n",
       "      <th>is_othercategory</th>\n",
       "      <th>has_VC</th>\n",
       "      <th>has_angel</th>\n",
       "      <th>has_roundA</th>\n",
       "      <th>has_roundB</th>\n",
       "      <th>has_roundC</th>\n",
       "      <th>has_roundD</th>\n",
       "      <th>avg_participants</th>\n",
       "      <th>is_top500</th>\n",
       "      <th>status</th>\n",
       "    </tr>\n",
       "  </thead>\n",
       "  <tbody>\n",
       "    <tr>\n",
       "      <th>0</th>\n",
       "      <td>42.358880</td>\n",
       "      <td>-71.056820</td>\n",
       "      <td>732586.0</td>\n",
       "      <td>733406.0</td>\n",
       "      <td>733681.0</td>\n",
       "      <td>2.2493</td>\n",
       "      <td>3.0027</td>\n",
       "      <td>3</td>\n",
       "      <td>3</td>\n",
       "      <td>375000</td>\n",
       "      <td>...</td>\n",
       "      <td>1</td>\n",
       "      <td>0</td>\n",
       "      <td>1</td>\n",
       "      <td>0</td>\n",
       "      <td>0</td>\n",
       "      <td>0</td>\n",
       "      <td>0</td>\n",
       "      <td>1.0000</td>\n",
       "      <td>0</td>\n",
       "      <td>1</td>\n",
       "    </tr>\n",
       "    <tr>\n",
       "      <th>1</th>\n",
       "      <td>37.238916</td>\n",
       "      <td>-121.973718</td>\n",
       "      <td>730031.0</td>\n",
       "      <td>731899.0</td>\n",
       "      <td>733673.0</td>\n",
       "      <td>5.1260</td>\n",
       "      <td>9.9973</td>\n",
       "      <td>9</td>\n",
       "      <td>4</td>\n",
       "      <td>40100000</td>\n",
       "      <td>...</td>\n",
       "      <td>0</td>\n",
       "      <td>1</td>\n",
       "      <td>0</td>\n",
       "      <td>0</td>\n",
       "      <td>1</td>\n",
       "      <td>1</td>\n",
       "      <td>1</td>\n",
       "      <td>4.7500</td>\n",
       "      <td>1</td>\n",
       "      <td>1</td>\n",
       "    </tr>\n",
       "    <tr>\n",
       "      <th>2</th>\n",
       "      <td>32.901049</td>\n",
       "      <td>-117.192656</td>\n",
       "      <td>733393.0</td>\n",
       "      <td>733770.0</td>\n",
       "      <td>733770.0</td>\n",
       "      <td>1.0329</td>\n",
       "      <td>1.0329</td>\n",
       "      <td>5</td>\n",
       "      <td>1</td>\n",
       "      <td>2600000</td>\n",
       "      <td>...</td>\n",
       "      <td>0</td>\n",
       "      <td>0</td>\n",
       "      <td>0</td>\n",
       "      <td>1</td>\n",
       "      <td>0</td>\n",
       "      <td>0</td>\n",
       "      <td>0</td>\n",
       "      <td>4.0000</td>\n",
       "      <td>1</td>\n",
       "      <td>1</td>\n",
       "    </tr>\n",
       "    <tr>\n",
       "      <th>3</th>\n",
       "      <td>37.320309</td>\n",
       "      <td>-122.050040</td>\n",
       "      <td>730761.0</td>\n",
       "      <td>731902.0</td>\n",
       "      <td>732700.0</td>\n",
       "      <td>3.1315</td>\n",
       "      <td>5.3151</td>\n",
       "      <td>5</td>\n",
       "      <td>3</td>\n",
       "      <td>40000000</td>\n",
       "      <td>...</td>\n",
       "      <td>0</td>\n",
       "      <td>0</td>\n",
       "      <td>0</td>\n",
       "      <td>0</td>\n",
       "      <td>1</td>\n",
       "      <td>1</td>\n",
       "      <td>1</td>\n",
       "      <td>3.3333</td>\n",
       "      <td>1</td>\n",
       "      <td>1</td>\n",
       "    </tr>\n",
       "    <tr>\n",
       "      <th>4</th>\n",
       "      <td>37.779281</td>\n",
       "      <td>-122.419236</td>\n",
       "      <td>733891.0</td>\n",
       "      <td>733891.0</td>\n",
       "      <td>734501.0</td>\n",
       "      <td>0.0000</td>\n",
       "      <td>1.6685</td>\n",
       "      <td>2</td>\n",
       "      <td>2</td>\n",
       "      <td>1300000</td>\n",
       "      <td>...</td>\n",
       "      <td>0</td>\n",
       "      <td>1</td>\n",
       "      <td>1</td>\n",
       "      <td>0</td>\n",
       "      <td>0</td>\n",
       "      <td>0</td>\n",
       "      <td>0</td>\n",
       "      <td>1.0000</td>\n",
       "      <td>1</td>\n",
       "      <td>0</td>\n",
       "    </tr>\n",
       "  </tbody>\n",
       "</table>\n",
       "<p>5 rows × 35 columns</p>\n",
       "</div>"
      ],
      "text/plain": [
       "    latitude   longitude  founded_at  first_funding_at  last_funding_at  \\\n",
       "0  42.358880  -71.056820    732586.0          733406.0         733681.0   \n",
       "1  37.238916 -121.973718    730031.0          731899.0         733673.0   \n",
       "2  32.901049 -117.192656    733393.0          733770.0         733770.0   \n",
       "3  37.320309 -122.050040    730761.0          731902.0         732700.0   \n",
       "4  37.779281 -122.419236    733891.0          733891.0         734501.0   \n",
       "\n",
       "   age_first_funding_year  age_last_funding_year  relationships  \\\n",
       "0                  2.2493                 3.0027              3   \n",
       "1                  5.1260                 9.9973              9   \n",
       "2                  1.0329                 1.0329              5   \n",
       "3                  3.1315                 5.3151              5   \n",
       "4                  0.0000                 1.6685              2   \n",
       "\n",
       "   funding_rounds  funding_total_usd  ...  is_othercategory  has_VC  \\\n",
       "0               3             375000  ...                 1       0   \n",
       "1               4           40100000  ...                 0       1   \n",
       "2               1            2600000  ...                 0       0   \n",
       "3               3           40000000  ...                 0       0   \n",
       "4               2            1300000  ...                 0       1   \n",
       "\n",
       "   has_angel  has_roundA  has_roundB  has_roundC  has_roundD  \\\n",
       "0          1           0           0           0           0   \n",
       "1          0           0           1           1           1   \n",
       "2          0           1           0           0           0   \n",
       "3          0           0           1           1           1   \n",
       "4          1           0           0           0           0   \n",
       "\n",
       "   avg_participants  is_top500  status  \n",
       "0            1.0000          0       1  \n",
       "1            4.7500          1       1  \n",
       "2            4.0000          1       1  \n",
       "3            3.3333          1       1  \n",
       "4            1.0000          1       0  \n",
       "\n",
       "[5 rows x 35 columns]"
      ]
     },
     "execution_count": 5,
     "metadata": {},
     "output_type": "execute_result"
    }
   ],
   "source": [
    "train_final.head()"
   ]
  },
  {
   "cell_type": "code",
   "execution_count": 6,
   "id": "07f7bbfa",
   "metadata": {},
   "outputs": [
    {
     "data": {
      "text/html": [
       "<div>\n",
       "<style scoped>\n",
       "    .dataframe tbody tr th:only-of-type {\n",
       "        vertical-align: middle;\n",
       "    }\n",
       "\n",
       "    .dataframe tbody tr th {\n",
       "        vertical-align: top;\n",
       "    }\n",
       "\n",
       "    .dataframe thead th {\n",
       "        text-align: right;\n",
       "    }\n",
       "</style>\n",
       "<table border=\"1\" class=\"dataframe\">\n",
       "  <thead>\n",
       "    <tr style=\"text-align: right;\">\n",
       "      <th></th>\n",
       "      <th>latitude</th>\n",
       "      <th>longitude</th>\n",
       "      <th>founded_at</th>\n",
       "      <th>first_funding_at</th>\n",
       "      <th>last_funding_at</th>\n",
       "      <th>age_first_funding_year</th>\n",
       "      <th>age_last_funding_year</th>\n",
       "      <th>relationships</th>\n",
       "      <th>funding_rounds</th>\n",
       "      <th>funding_total_usd</th>\n",
       "      <th>...</th>\n",
       "      <th>is_othercategory</th>\n",
       "      <th>has_VC</th>\n",
       "      <th>has_angel</th>\n",
       "      <th>has_roundA</th>\n",
       "      <th>has_roundB</th>\n",
       "      <th>has_roundC</th>\n",
       "      <th>has_roundD</th>\n",
       "      <th>avg_participants</th>\n",
       "      <th>is_top500</th>\n",
       "      <th>status</th>\n",
       "    </tr>\n",
       "  </thead>\n",
       "  <tbody>\n",
       "    <tr>\n",
       "      <th>0</th>\n",
       "      <td>37.404788</td>\n",
       "      <td>-121.940842</td>\n",
       "      <td>731491.0</td>\n",
       "      <td>733597.0</td>\n",
       "      <td>733597.0</td>\n",
       "      <td>5.7836</td>\n",
       "      <td>5.7836</td>\n",
       "      <td>1</td>\n",
       "      <td>1</td>\n",
       "      <td>10000000</td>\n",
       "      <td>...</td>\n",
       "      <td>1</td>\n",
       "      <td>1</td>\n",
       "      <td>0</td>\n",
       "      <td>0</td>\n",
       "      <td>0</td>\n",
       "      <td>0</td>\n",
       "      <td>0</td>\n",
       "      <td>3.0</td>\n",
       "      <td>1</td>\n",
       "      <td>NaN</td>\n",
       "    </tr>\n",
       "    <tr>\n",
       "      <th>1</th>\n",
       "      <td>37.421022</td>\n",
       "      <td>-122.137741</td>\n",
       "      <td>734046.0</td>\n",
       "      <td>734252.0</td>\n",
       "      <td>734252.0</td>\n",
       "      <td>0.5671</td>\n",
       "      <td>0.5671</td>\n",
       "      <td>5</td>\n",
       "      <td>1</td>\n",
       "      <td>425000</td>\n",
       "      <td>...</td>\n",
       "      <td>0</td>\n",
       "      <td>0</td>\n",
       "      <td>1</td>\n",
       "      <td>0</td>\n",
       "      <td>0</td>\n",
       "      <td>0</td>\n",
       "      <td>0</td>\n",
       "      <td>2.0</td>\n",
       "      <td>1</td>\n",
       "      <td>NaN</td>\n",
       "    </tr>\n",
       "    <tr>\n",
       "      <th>2</th>\n",
       "      <td>35.966068</td>\n",
       "      <td>-115.118671</td>\n",
       "      <td>731126.0</td>\n",
       "      <td>733082.0</td>\n",
       "      <td>734032.0</td>\n",
       "      <td>5.3644</td>\n",
       "      <td>7.9781</td>\n",
       "      <td>5</td>\n",
       "      <td>3</td>\n",
       "      <td>37891054</td>\n",
       "      <td>...</td>\n",
       "      <td>1</td>\n",
       "      <td>1</td>\n",
       "      <td>0</td>\n",
       "      <td>0</td>\n",
       "      <td>1</td>\n",
       "      <td>1</td>\n",
       "      <td>0</td>\n",
       "      <td>3.0</td>\n",
       "      <td>1</td>\n",
       "      <td>NaN</td>\n",
       "    </tr>\n",
       "    <tr>\n",
       "      <th>3</th>\n",
       "      <td>32.833501</td>\n",
       "      <td>-117.261620</td>\n",
       "      <td>731491.0</td>\n",
       "      <td>731886.0</td>\n",
       "      <td>734319.0</td>\n",
       "      <td>1.0877</td>\n",
       "      <td>7.7616</td>\n",
       "      <td>9</td>\n",
       "      <td>5</td>\n",
       "      <td>40000000</td>\n",
       "      <td>...</td>\n",
       "      <td>0</td>\n",
       "      <td>1</td>\n",
       "      <td>0</td>\n",
       "      <td>1</td>\n",
       "      <td>1</td>\n",
       "      <td>1</td>\n",
       "      <td>0</td>\n",
       "      <td>4.0</td>\n",
       "      <td>1</td>\n",
       "      <td>NaN</td>\n",
       "    </tr>\n",
       "    <tr>\n",
       "      <th>4</th>\n",
       "      <td>34.048857</td>\n",
       "      <td>-118.251343</td>\n",
       "      <td>732826.0</td>\n",
       "      <td>733084.0</td>\n",
       "      <td>733601.0</td>\n",
       "      <td>0.7014</td>\n",
       "      <td>2.1260</td>\n",
       "      <td>10</td>\n",
       "      <td>3</td>\n",
       "      <td>5550000</td>\n",
       "      <td>...</td>\n",
       "      <td>0</td>\n",
       "      <td>0</td>\n",
       "      <td>0</td>\n",
       "      <td>1</td>\n",
       "      <td>1</td>\n",
       "      <td>0</td>\n",
       "      <td>0</td>\n",
       "      <td>3.0</td>\n",
       "      <td>1</td>\n",
       "      <td>NaN</td>\n",
       "    </tr>\n",
       "  </tbody>\n",
       "</table>\n",
       "<p>5 rows × 35 columns</p>\n",
       "</div>"
      ],
      "text/plain": [
       "    latitude   longitude  founded_at  first_funding_at  last_funding_at  \\\n",
       "0  37.404788 -121.940842    731491.0          733597.0         733597.0   \n",
       "1  37.421022 -122.137741    734046.0          734252.0         734252.0   \n",
       "2  35.966068 -115.118671    731126.0          733082.0         734032.0   \n",
       "3  32.833501 -117.261620    731491.0          731886.0         734319.0   \n",
       "4  34.048857 -118.251343    732826.0          733084.0         733601.0   \n",
       "\n",
       "   age_first_funding_year  age_last_funding_year  relationships  \\\n",
       "0                  5.7836                 5.7836              1   \n",
       "1                  0.5671                 0.5671              5   \n",
       "2                  5.3644                 7.9781              5   \n",
       "3                  1.0877                 7.7616              9   \n",
       "4                  0.7014                 2.1260             10   \n",
       "\n",
       "   funding_rounds  funding_total_usd  ...  is_othercategory  has_VC  \\\n",
       "0               1           10000000  ...                 1       1   \n",
       "1               1             425000  ...                 0       0   \n",
       "2               3           37891054  ...                 1       1   \n",
       "3               5           40000000  ...                 0       1   \n",
       "4               3            5550000  ...                 0       0   \n",
       "\n",
       "   has_angel  has_roundA  has_roundB  has_roundC  has_roundD  \\\n",
       "0          0           0           0           0           0   \n",
       "1          1           0           0           0           0   \n",
       "2          0           0           1           1           0   \n",
       "3          0           1           1           1           0   \n",
       "4          0           1           1           0           0   \n",
       "\n",
       "   avg_participants  is_top500  status  \n",
       "0               3.0          1     NaN  \n",
       "1               2.0          1     NaN  \n",
       "2               3.0          1     NaN  \n",
       "3               4.0          1     NaN  \n",
       "4               3.0          1     NaN  \n",
       "\n",
       "[5 rows x 35 columns]"
      ]
     },
     "execution_count": 6,
     "metadata": {},
     "output_type": "execute_result"
    }
   ],
   "source": [
    "test_final.head()"
   ]
  },
  {
   "cell_type": "code",
   "execution_count": 7,
   "id": "df714546",
   "metadata": {},
   "outputs": [],
   "source": [
    "feature_cols = train_final.columns[:-1]\n",
    "train_x = train_final[feature_cols]\n",
    "train_y = train_final.status\n",
    "test_x = test_final[feature_cols]\n",
    "test_y = test_final.status"
   ]
  },
  {
   "cell_type": "code",
   "execution_count": null,
   "id": "ec1f6fd0",
   "metadata": {},
   "outputs": [],
   "source": []
  },
  {
   "cell_type": "code",
   "execution_count": 8,
   "id": "83073a31",
   "metadata": {},
   "outputs": [
    {
     "data": {
      "image/png": "[encoded data removed]",
      "text/plain": [
       "<Figure size 432x288 with 1 Axes>"
      ]
     },
     "metadata": {
      "needs_background": "light"
     },
     "output_type": "display_data"
    }
   ],
   "source": [
    "pca1 = PCA(n_components='mle')\n",
    "train_x_norm = normalize(train_x,axis=0,norm='max')\n",
    "train_x_1 = pca1.fit_transform(train_x_norm)\n",
    "variance = pca1.explained_variance_\n",
    "label = np.linspace(1,len(variance),len(variance))\n",
    "label = ['PC1','PC2','PC3','PC4','PC5','PC6','PC7','PC8','PC9','PC10','PC11','PC12','PC13','PC14','PC15','PC16','PC17','PC18','PC19','PC20','PC21','PC22','PC23','PC24','PC25','PC26','PC27','PC28','PC29','PC30','PC31','pc32','pc33']\n",
    "plt.bar(label,variance)\n",
    "plt.rcParams['figure.figsize'] = (18,10)\n",
    "plt.show()"
   ]
  },
  {
   "cell_type": "code",
   "execution_count": 9,
   "id": "acd4df7c",
   "metadata": {},
   "outputs": [],
   "source": [
    "def pca(train_x,test_x,Using_PCA): \n",
    "    if not Using_PCA:\n",
    "        return train_x,test_x\n",
    "    pca1 = PCA(n_components='mle')\n",
    "    train_x_norm = normalize(train_x,axis=0,norm='max')\n",
    "    train_x_1 = pca1.fit_transform(train_x_norm)\n",
    "    test_x_1 = pca1.transform(test_x)\n",
    "    return train_x_1,test_x_1"
   ]
  },
  {
   "cell_type": "markdown",
   "id": "d5033b85",
   "metadata": {},
   "source": [
    "# Decision tree--classification tree"
   ]
  },
  {
   "cell_type": "code",
   "execution_count": 10,
   "id": "c2e25e83",
   "metadata": {},
   "outputs": [],
   "source": [
    "def DecisionTree(train_x,train_y,test_x,criterion,max_depth):\n",
    "    treeclf = DecisionTreeClassifier(criterion = criterion,max_depth = max_depth, random_state=1)\n",
    "    treeclf.fit(train_x , train_y)# Fit model\n",
    "    preds = treeclf.predict(test_x)# Predict\n",
    "    return preds"
   ]
  },
  {
   "cell_type": "markdown",
   "id": "7e59f4ac",
   "metadata": {},
   "source": [
    "Using PCA & Parameter Tuning"
   ]
  },
  {
   "cell_type": "code",
   "execution_count": 11,
   "id": "8602b324",
   "metadata": {},
   "outputs": [
    {
     "name": "stdout",
     "output_type": "stream",
     "text": [
      "{'criterion': 'entropy', 'max_depth': 3}\n"
     ]
    }
   ],
   "source": [
    "[train_x_pca,test_x_pca] = pca(train_x,test_x,Using_PCA = True)\n",
    "params={\n",
    "            'criterion':['gini','entropy'],\n",
    "            'max_depth':[1,2,3,4,5,6,7,8,None]\n",
    "            }\n",
    "dtree=DecisionTreeClassifier(random_state=1)\n",
    "cv = GridSearchCV(dtree, params, cv = 5, n_jobs = -1)\n",
    "cv.fit(train_x_pca, train_y)\n",
    "print(cv.best_params_)\n",
    "criterion = cv.best_params_['criterion']\n",
    "max_depth = cv.best_params_['max_depth']"
   ]
  },
  {
   "cell_type": "code",
   "execution_count": 12,
   "id": "5baddba5",
   "metadata": {
    "scrolled": true
   },
   "outputs": [
    {
     "data": {
      "text/plain": [
       "0.689873949579832"
      ]
     },
     "execution_count": 12,
     "metadata": {},
     "output_type": "execute_result"
    }
   ],
   "source": [
    "k_flod_id = np.int16(np.linspace(0,len(train_y),11))\n",
    "acc_i = []\n",
    "for i in range(0,10):\n",
    "    test_x_i = train_x_pca[k_flod_id[i]:k_flod_id[i+1]]\n",
    "    test_y_i = train_y[k_flod_id[i]:k_flod_id[i+1]]\n",
    "    train_y_i = train_y[0:k_flod_id[i]].append(train_y[k_flod_id[i+1]:len(train_y)])\n",
    "    train_x_i = np.vstack((train_x_pca[0:k_flod_id[i]],train_x_pca[k_flod_id[i+1]:len(train_y)]))\n",
    "    preds_i = DecisionTree(train_x_i,train_y_i,test_x_i,criterion,max_depth)\n",
    "    acc_i.append(sum(preds_i == test_y_i)/len(test_y_i))\n",
    "np.average(acc_i)"
   ]
  },
  {
   "cell_type": "markdown",
   "id": "3ef577ce",
   "metadata": {},
   "source": [
    "Not Using PCA & Parameter Tuning"
   ]
  },
  {
   "cell_type": "code",
   "execution_count": 13,
   "id": "f386f632",
   "metadata": {},
   "outputs": [
    {
     "name": "stdout",
     "output_type": "stream",
     "text": [
      "{'criterion': 'gini', 'max_depth': 7}\n"
     ]
    }
   ],
   "source": [
    "[train_x_pca,test_x_pca] = pca(train_x,test_x,Using_PCA = False)\n",
    "params={\n",
    "            'criterion':['gini','entropy'],\n",
    "            'max_depth':[1,2,3,4,5,6,7,8,None]\n",
    "            }\n",
    "dtree=DecisionTreeClassifier(random_state=1)\n",
    "cv = GridSearchCV(dtree, params, cv = 5, n_jobs = -1)\n",
    "cv.fit(train_x_pca, train_y)\n",
    "print(cv.best_params_)\n",
    "criterion = cv.best_params_['criterion']\n",
    "max_depth = cv.best_params_['max_depth']"
   ]
  },
  {
   "cell_type": "markdown",
   "id": "f18d4232",
   "metadata": {},
   "source": [
    "K_Flod"
   ]
  },
  {
   "cell_type": "code",
   "execution_count": 14,
   "id": "fb83dc55",
   "metadata": {},
   "outputs": [
    {
     "data": {
      "text/plain": [
       "0.7440336134453782"
      ]
     },
     "execution_count": 14,
     "metadata": {},
     "output_type": "execute_result"
    }
   ],
   "source": [
    "k_flod_id = np.int16(np.linspace(0,len(train_y),11))\n",
    "acc_i = []\n",
    "for i in range(0,10):\n",
    "    test_x_i = train_x_pca[k_flod_id[i]:k_flod_id[i+1]]\n",
    "    test_y_i = train_y[k_flod_id[i]:k_flod_id[i+1]]\n",
    "    train_y_i = train_y[0:k_flod_id[i]].append(train_y[k_flod_id[i+1]:len(train_y)])\n",
    "    train_x_i = np.vstack((train_x_pca[0:k_flod_id[i]],train_x_pca[k_flod_id[i+1]:len(train_y)]))\n",
    "    preds_i = DecisionTree(train_x_i,train_y_i,test_x_i,criterion,max_depth)\n",
    "    acc_i.append(sum(preds_i == test_y_i)/len(test_y_i))\n",
    "np.average(acc_i)"
   ]
  },
  {
   "cell_type": "markdown",
   "id": "ddd1a9f2",
   "metadata": {},
   "source": [
    "# RandomForest--classification tree"
   ]
  },
  {
   "cell_type": "code",
   "execution_count": 15,
   "id": "68a531f7",
   "metadata": {},
   "outputs": [
    {
     "name": "stdout",
     "output_type": "stream",
     "text": [
      "{'max_depth': 8, 'n_estimators': 250}\n"
     ]
    }
   ],
   "source": [
    "[train_x_pca,test_x_pca] = pca(train_x,test_x,Using_PCA = False)\n",
    "params={\n",
    "    'n_estimators': [5, 50, 250],\n",
    "    'max_depth': [2, 4, 8, 16, 32, None]\n",
    "            }\n",
    "rf = RandomForestClassifier(n_jobs = -1, random_state = 10)\n",
    "cv = GridSearchCV(rf, params, cv = 5, n_jobs = -1)\n",
    "cv.fit(train_x_pca, train_y)\n",
    "print(cv.best_params_)\n",
    "n_estimators = cv.best_params_['n_estimators']\n",
    "max_depth = cv.best_params_['max_depth']"
   ]
  },
  {
   "cell_type": "code",
   "execution_count": 16,
   "id": "ca8cfff8",
   "metadata": {},
   "outputs": [],
   "source": [
    "def RandomForest(train_x,train_y,test_x,n_estimators,max_depth):\n",
    "    treeclf = RandomForestClassifier(n_estimators = n_estimators,max_depth = max_depth, random_state=1)\n",
    "    treeclf.fit(train_x , train_y)# Fit model\n",
    "    preds = treeclf.predict(test_x)# Predict\n",
    "    return preds"
   ]
  },
  {
   "cell_type": "code",
   "execution_count": 17,
   "id": "01f982dd",
   "metadata": {},
   "outputs": [
    {
     "data": {
      "text/plain": [
       "0.7935994397759103"
      ]
     },
     "execution_count": 17,
     "metadata": {},
     "output_type": "execute_result"
    }
   ],
   "source": [
    "k_flod_id = np.int16(np.linspace(0,len(train_y),11))\n",
    "acc_i = []\n",
    "for i in range(0,10):\n",
    "    test_x_i = train_x_pca[k_flod_id[i]:k_flod_id[i+1]]\n",
    "    test_y_i = train_y[k_flod_id[i]:k_flod_id[i+1]]\n",
    "    train_y_i = train_y[0:k_flod_id[i]].append(train_y[k_flod_id[i+1]:len(train_y)])\n",
    "    train_x_i = np.vstack((train_x_pca[0:k_flod_id[i]],train_x_pca[k_flod_id[i+1]:len(train_y)]))\n",
    "    preds_i = RandomForest(train_x_i,train_y_i,test_x_i,n_estimators,max_depth)\n",
    "    acc_i.append(sum(preds_i == test_y_i)/len(test_y_i))\n",
    "np.average(acc_i)"
   ]
  },
  {
   "cell_type": "markdown",
   "id": "4ccb1c48",
   "metadata": {},
   "source": [
    "# GradientBoosting"
   ]
  },
  {
   "cell_type": "code",
   "execution_count": 18,
   "id": "46b3f306",
   "metadata": {},
   "outputs": [
    {
     "name": "stdout",
     "output_type": "stream",
     "text": [
      "{'learning_rate': 0.05, 'max_depth': None, 'n_estimators': 17, 'subsample': 0.85}\n"
     ]
    }
   ],
   "source": [
    "[train_x_pca,test_x_pca] = pca(train_x,test_x,Using_PCA = False)\n",
    "gbrt = GradientBoostingClassifier(random_state=0)\n",
    "params={\n",
    "    'subsample':[0.85,0.9,0.95],\n",
    "    'n_estimators':[11,12,13,14,15,16,17],\n",
    "    'learning_rate':[0.05,0.01, 0.005],\n",
    "    'max_depth':[1,2,3,4,None]\n",
    "}\n",
    "cv = GridSearchCV(gbrt, params, cv = 5, n_jobs = -1)\n",
    "cv.fit(train_x_pca, train_y)\n",
    "print(cv.best_params_)\n",
    "subsample = cv.best_params_['subsample']\n",
    "n_estimators = cv.best_params_['n_estimators']\n",
    "learning_rate = cv.best_params_['learning_rate']\n",
    "max_depth = cv.best_params_['max_depth']"
   ]
  },
  {
   "cell_type": "code",
   "execution_count": 19,
   "id": "73229407",
   "metadata": {},
   "outputs": [],
   "source": [
    "def GradientBoosting(train_x,train_y,test_x,n_estimators,max_depth):\n",
    "    treeclf = GradientBoostingClassifier(subsample = subsample,n_estimators = n_estimators, learning_rate = learning_rate,max_depth = max_depth, random_state=1)\n",
    "    treeclf.fit(train_x , train_y)# Fit model\n",
    "    preds = treeclf.predict(test_x)# Predict\n",
    "    return preds"
   ]
  },
  {
   "cell_type": "code",
   "execution_count": 20,
   "id": "6c6c2412",
   "metadata": {},
   "outputs": [
    {
     "data": {
      "text/plain": [
       "0.7676750700280112"
      ]
     },
     "execution_count": 20,
     "metadata": {},
     "output_type": "execute_result"
    }
   ],
   "source": [
    "k_flod_id = np.int16(np.linspace(0,len(train_y),11))\n",
    "acc_i = []\n",
    "for i in range(0,10):\n",
    "    test_x_i = train_x_pca[k_flod_id[i]:k_flod_id[i+1]]\n",
    "    test_y_i = train_y[k_flod_id[i]:k_flod_id[i+1]]\n",
    "    train_y_i = train_y[0:k_flod_id[i]].append(train_y[k_flod_id[i+1]:len(train_y)])\n",
    "    train_x_i = np.vstack((train_x_pca[0:k_flod_id[i]],train_x_pca[k_flod_id[i+1]:len(train_y)]))\n",
    "    preds_i = GradientBoosting(train_x_i,train_y_i,test_x_i,n_estimators,max_depth)\n",
    "    acc_i.append(sum(preds_i == test_y_i)/len(test_y_i))\n",
    "np.average(acc_i)"
   ]
  },
  {
   "cell_type": "code",
   "execution_count": null,
   "id": "a5eefd97",
   "metadata": {},
   "outputs": [],
   "source": []
  }
 ],
 "metadata": {
  "kernelspec": {
   "display_name": "Python 3",
   "language": "python",
   "name": "python3"
  },
  "language_info": {
   "codemirror_mode": {
    "name": "ipython",
    "version": 3
   },
   "file_extension": ".py",
   "mimetype": "text/x-python",
   "name": "python",
   "nbconvert_exporter": "python",
   "pygments_lexer": "ipython3",
   "version": "3.8.8"
  }
 },
 "nbformat": 4,
 "nbformat_minor": 5
}
